{
  "nbformat": 4,
  "nbformat_minor": 0,
  "metadata": {
    "kernelspec": {
      "display_name": "Python 3",
      "language": "python",
      "name": "python3"
    },
    "language_info": {
      "codemirror_mode": {
        "name": "ipython",
        "version": 3
      },
      "file_extension": ".py",
      "mimetype": "text/x-python",
      "name": "python",
      "nbconvert_exporter": "python",
      "pygments_lexer": "ipython3",
      "version": "3.7.1"
    },
    "colab": {
      "provenance": [],
      "include_colab_link": true
    }
  },
  "cells": [
    {
      "cell_type": "markdown",
      "metadata": {
        "id": "view-in-github",
        "colab_type": "text"
      },
      "source": [
        "<a href=\"https://colab.research.google.com/github/Pranay2601/Complete-Python-3-Bootcamp/blob/master/Lesson_1_2_Conditionals_and_Iteration.ipynb\" target=\"_parent\"><img src=\"https://colab.research.google.com/assets/colab-badge.svg\" alt=\"Open In Colab\"/></a>"
      ]
    },
    {
      "cell_type": "markdown",
      "metadata": {
        "id": "EcUAn2_DIbxw"
      },
      "source": [
        "# Lesson 1.2: Conditional Statments and Iteration"
      ]
    },
    {
      "cell_type": "markdown",
      "metadata": {
        "id": "PfF1AMkFAgDQ"
      },
      "source": [
        "### Video Lessons\n",
        "[Conditional Statements and Programs (8:30 min)](https://youtu.be/ivpypUqrx7E)  \n",
        "[Iteration (5:06 min)](https://youtu.be/kQl9HOts67c)"
      ]
    },
    {
      "cell_type": "markdown",
      "metadata": {
        "id": "HjQLmFNOAn1x"
      },
      "source": [
        "### Objectives\n",
        "\n",
        "* Be able to read a conditional scenario and turn it into a python program.\n",
        "* Understand indentation and code blocks in python\n",
        "* Know how to use inputs to make a program dynamic\n",
        "* Be able to use iteration to perform repetitive tasks\n",
        "* Be able to combine conditional statements and iterative processes in order to build more sophisticated programs\n",
        "* Use conditional statements and iteration to automate tasks in business contexts\n",
        "\n"
      ]
    },
    {
      "cell_type": "markdown",
      "metadata": {
        "id": "QHXnGUQPAxFb"
      },
      "source": [
        "### References\n",
        "\n",
        "* Python Programming, An Introduction to Compter Science, John Zelle\n",
        "* Analytics in Python, edX, ColumbiaX - BAMM.101x\n",
        "* www.investor.gov\n",
        "\n"
      ]
    },
    {
      "cell_type": "markdown",
      "metadata": {
        "id": "YQ97FaTyBoaj"
      },
      "source": [
        "### Warm-up Exercises\n",
        "Investigate the following methods in the code blocks below and also by searching the web.  Write comments to explain.\n",
        "\n",
        "The input() function:\n",
        "```\n",
        "input(\"enter a value:\")\n",
        "```\n",
        "The range() function:\n",
        "```\n",
        "range(10)\n",
        "```\n",
        "Concatenating strings and variables:\n",
        "```\n",
        "room=125\n",
        "time=\"2:30pm\"\n",
        "print(\"class meets in room\", room, time)\n",
        "```\n"
      ]
    },
    {
      "cell_type": "code",
      "metadata": {
        "colab": {
          "base_uri": "https://localhost:8080/",
          "height": 53
        },
        "id": "sFn9qGkmCaoY",
        "outputId": "5d92667f-4ac6-40db-9248-e2a06c837082"
      },
      "source": [
        "input(\"Enter value: \") "
      ],
      "execution_count": 1,
      "outputs": [
        {
          "name": "stdout",
          "output_type": "stream",
          "text": [
            "Enter value: 25\n"
          ]
        },
        {
          "output_type": "execute_result",
          "data": {
            "text/plain": [
              "'25'"
            ],
            "application/vnd.google.colaboratory.intrinsic+json": {
              "type": "string"
            }
          },
          "metadata": {},
          "execution_count": 1
        }
      ]
    },
    {
      "cell_type": "code",
      "metadata": {
        "colab": {
          "base_uri": "https://localhost:8080/"
        },
        "id": "T_AUW15-Caiw",
        "outputId": "834abc4a-109b-4502-9615-90fdd7582818"
      },
      "source": [
        "range(10)"
      ],
      "execution_count": 2,
      "outputs": [
        {
          "output_type": "execute_result",
          "data": {
            "text/plain": [
              "range(0, 10)"
            ]
          },
          "metadata": {},
          "execution_count": 2
        }
      ]
    },
    {
      "cell_type": "code",
      "metadata": {
        "colab": {
          "base_uri": "https://localhost:8080/"
        },
        "id": "xnQCuoCkCaVQ",
        "outputId": "10e4c586-507e-4092-8aaf-afd672a7bbed"
      },
      "source": [
        "room=125\n",
        "time=\"2:30pm\"\n",
        "print(\"class meets in room\", room, time)"
      ],
      "execution_count": 3,
      "outputs": [
        {
          "output_type": "stream",
          "name": "stdout",
          "text": [
            "class meets in room 125 2:30pm\n"
          ]
        }
      ]
    },
    {
      "cell_type": "markdown",
      "metadata": {
        "id": "HFDnPOKPCvq-"
      },
      "source": [
        "Write a formula to calculate the percent chance in an account given any starting balance and any ending balance. \n",
        "```\n",
        "start=3000\n",
        "end=3225\n",
        "```\n",
        "```\n",
        "percent_change=(end-start)/start*100\n",
        "```"
      ]
    },
    {
      "cell_type": "code",
      "metadata": {
        "colab": {
          "base_uri": "https://localhost:8080/"
        },
        "id": "L0amR3IZDWqM",
        "outputId": "92d7586e-9922-455c-d5ca-55aceaf9028a"
      },
      "source": [
        "# Test it out\n",
        "start=3000\n",
        "end=3225\n",
        "\n",
        "percent_change=(end-start)/start*100\n",
        "percent_change"
      ],
      "execution_count": 4,
      "outputs": [
        {
          "output_type": "execute_result",
          "data": {
            "text/plain": [
              "7.5"
            ]
          },
          "metadata": {},
          "execution_count": 4
        }
      ]
    },
    {
      "cell_type": "markdown",
      "metadata": {
        "id": "F9VHjLVF--of"
      },
      "source": [
        "### Conditional Statements and Programs\n",
        "The “if” statement is used to control the behavior of a python program and in all other programming languages.  The “if” statement allows us to say, “if this condition is true, do this thing, if this condition is false, do nothing or do something else”.  We can model this behavior in a flow chart. ![conditional1](https://drive.google.com/uc?id=1igpPQHf5mF3CdkeaDID84V6_Qaip4qUG)\n",
        "\n",
        "Some examples we can consider are:  \n",
        "* if it's hot out, go swimming\n",
        "* if it's cold out, go sledding\n",
        "\n",
        "\n",
        "![conditional2](https://drive.google.com/uc?id=1dBT8hNofZZzUJf-bxU82GLECHPk-qsqx)"
      ]
    },
    {
      "cell_type": "markdown",
      "metadata": {
        "id": "Cm5oQyeZ--ok"
      },
      "source": [
        "**Conditional program in Python**\n",
        "Write a program that handles a temperature as an input and decides how to respond based on the value of the temperature.  If it is 90 degrees or more, print \"I'm going swimming\", if it is 30 degrees or less, print \"I'm going sledding\"."
      ]
    },
    {
      "cell_type": "code",
      "metadata": {
        "id": "csEqgNUX--ol"
      },
      "source": [
        "## set the starting temperature \n",
        "temp=42\n",
        "if temp>=90:\n",
        "  print(\"I'm going swimming\")\n",
        "if temp<=30:\n",
        "  print(\"I'm going sledding\")"
      ],
      "execution_count": 7,
      "outputs": []
    },
    {
      "cell_type": "markdown",
      "metadata": {
        "id": "L0jkwOvC--om"
      },
      "source": [
        "Notice that nothing happens when the input temperature is 42.  We haven't handled this case.  Let's make a couple of modifications:"
      ]
    },
    {
      "cell_type": "code",
      "metadata": {
        "id": "tM076R11--om",
        "colab": {
          "base_uri": "https://localhost:8080/",
          "height": 53
        },
        "outputId": "1590723a-d933-495e-cb8c-cec4586c43e8"
      },
      "source": [
        "# We can set up a variable input using the input function:\n",
        "input(\"Enter a value: \")"
      ],
      "execution_count": 6,
      "outputs": [
        {
          "name": "stdout",
          "output_type": "stream",
          "text": [
            "Enter a value: 98\n"
          ]
        },
        {
          "output_type": "execute_result",
          "data": {
            "text/plain": [
              "'98'"
            ],
            "application/vnd.google.colaboratory.intrinsic+json": {
              "type": "string"
            }
          },
          "metadata": {},
          "execution_count": 6
        }
      ]
    },
    {
      "cell_type": "markdown",
      "metadata": {
        "id": "XP0vl3wD--om"
      },
      "source": [
        "Notice that the result of entering a number yields a string, our program needs to take in an integer, so we need to specify an integer input."
      ]
    },
    {
      "cell_type": "code",
      "metadata": {
        "id": "vqMpko3U--om"
      },
      "source": [
        "temp=int(input(\"Enter a temperature: \"))\n",
        "if temp>=90:\n",
        "  print(\"I'm going swimming\")\n",
        "if temp<=30:\n",
        "  print(\"I'm going sledding\")"
      ],
      "execution_count": null,
      "outputs": []
    },
    {
      "cell_type": "markdown",
      "metadata": {
        "id": "OYnwpGNb--on"
      },
      "source": [
        "Next, we should modify the program to handle cases outside the 90 and 30 degree boundaries.  \n",
        "![conditional3](https://drive.google.com/uc?id=1iH3qoO3ED49d6W8KYhqjg5OiZTfRhEdH)  \n",
        "\n",
        "Writing this up in Python looks like:"
      ]
    },
    {
      "cell_type": "code",
      "metadata": {
        "id": "H1Y5lYEy--on",
        "colab": {
          "base_uri": "https://localhost:8080/"
        },
        "outputId": "b7584e63-ec22-4dfb-b1d0-52ce3b0480e3"
      },
      "source": [
        "temp = int(input(\"enter a temperature: \"))\n",
        "if temp>=90:\n",
        "  print(\"I'm going swimming\")\n",
        "elif temp<=30:\n",
        "  print(\"I'm going sledding\")\n",
        "else:\n",
        "  print(\"I'm going for a bike ride\")"
      ],
      "execution_count": 8,
      "outputs": [
        {
          "output_type": "stream",
          "name": "stdout",
          "text": [
            "enter a temperature: 98\n",
            "I'm going swimming\n"
          ]
        }
      ]
    },
    {
      "cell_type": "markdown",
      "metadata": {
        "id": "CGa5zT_GGBoq"
      },
      "source": [
        "Note that when we have more than two conditions to check, we use the ```'elif'``` statement, short for \"else if\"."
      ]
    },
    {
      "cell_type": "markdown",
      "metadata": {
        "id": "1W2f1ndD--on"
      },
      "source": [
        "#### Example: Is it divisible?\n",
        "Write a program that takes in two integer values as inputs.  Write some code to do the following:  If x is divisible by y, print (value of x) is divisible by (value of y).  If x is not divisible by y, print (value of x) is not divisible by (value of y)"
      ]
    },
    {
      "cell_type": "code",
      "metadata": {
        "id": "RfQnyzs5--on",
        "colab": {
          "base_uri": "https://localhost:8080/"
        },
        "outputId": "5f20a82d-b92e-4010-ff2b-cee7202b87cf"
      },
      "source": [
        "x=int(input(\"Enter an integer: \"))\n",
        "y=int(input(\"Enter a second integer: \"))\n",
        "if x%y==0:\n",
        "  print(x, \"is divisible by\", y)\n",
        "else:\n",
        "  print(x, \"is not divisible by\", y)"
      ],
      "execution_count": 9,
      "outputs": [
        {
          "output_type": "stream",
          "name": "stdout",
          "text": [
            "Enter an integer: 45\n",
            "Enter a second integer: 98\n",
            "45 is not divisible by 98\n"
          ]
        }
      ]
    },
    {
      "cell_type": "markdown",
      "metadata": {
        "id": "KkRZ63Cx--oo"
      },
      "source": [
        "#### Exercise: Evens and Odds\n",
        "Write a program to check if an integer input is even or odd.  If even, print \"(number) is an even number\", if odd, print \"(number) is an odd number\""
      ]
    },
    {
      "cell_type": "code",
      "metadata": {
        "id": "ol-V6_0---oo",
        "colab": {
          "base_uri": "https://localhost:8080/"
        },
        "outputId": "62133a79-5291-4c16-c509-0351cace0ea2"
      },
      "source": [
        "num=int(input(\"Enter an integer: \"))\n",
        "# your code\n",
        "if num%2==0:\n",
        "  print(num,\"is an even number\")\n",
        "else:\n",
        "  print(num,\"is an odd number\")\n",
        "\n",
        "\n"
      ],
      "execution_count": 20,
      "outputs": [
        {
          "output_type": "stream",
          "name": "stdout",
          "text": [
            "Enter an integer: 35\n",
            "35 is an odd number\n"
          ]
        }
      ]
    },
    {
      "cell_type": "markdown",
      "metadata": {
        "id": "4P5ZCaqi--oo"
      },
      "source": [
        "#### Example:  Account Balance\n",
        "Write a program that takes in a starting yearly account balance and an ending yearly account balance for a company.  If the percent increase is more than 20%, print, \"the account balance has increased by (percent increase)\".  If the percent decrease exceeds 10%, print, \"the account balance has decreased by (percent decrease)\".  Otherwise print \"No action is required at this time\"."
      ]
    },
    {
      "cell_type": "code",
      "metadata": {
        "id": "I3WjkTPb--oo",
        "colab": {
          "base_uri": "https://localhost:8080/"
        },
        "outputId": "7c2feaa4-0344-4488-c5c5-68ca37ad6cfe"
      },
      "source": [
        "start=float(input(\"Enter starting account balance: \"))\n",
        "end=float(input(\"Enter ending account balance: \"))\n",
        "# your code\n",
        "percent_change=(end-start)/start*100\n",
        "if percent_change>20:\n",
        "  print(\"the account balance has increased by \",percent_change)\n",
        "elif percent_change<-10:\n",
        "  print(\"the account balance has decreased by \",percent_change)\n",
        "else:\n",
        "  print(\"No action is required at this time\")\n",
        "\n"
      ],
      "execution_count": 23,
      "outputs": [
        {
          "output_type": "stream",
          "name": "stdout",
          "text": [
            "Enter starting account balance: 20000\n",
            "Enter ending account balance: 18000\n",
            "No action is required at this time\n"
          ]
        }
      ]
    },
    {
      "cell_type": "markdown",
      "metadata": {
        "id": "GY1dJlQr--op"
      },
      "source": [
        "#### Exercise: Stock Decisions\n",
        "Write a program to take in two inputs -- the purchase price of a stock and the current price.  If the current price is less than 90% of the purchase price, print \"sell the stock to stop loss, you have lost (amount) dollars\".  If the current price is more than 20% higher than the than the purchase price, print \"sell the stock to make a profit, you have lost (amount) dollars\".  Otherwise print, \"no action is required.\"   "
      ]
    },
    {
      "cell_type": "code",
      "metadata": {
        "id": "wLu8kEvB--op",
        "colab": {
          "base_uri": "https://localhost:8080/"
        },
        "outputId": "9edc4979-89a7-4850-82f2-15deb227c67c"
      },
      "source": [
        "purchase_price = float(input(\"Enter the purchase price of the stock: \"))\n",
        "price_now = float(input(\"Enter the current price of the stock: \"))\n",
        "\n",
        "# your code\n",
        "a=price_now-purchase_price\n",
        "if price_now<0.9*purchase_price:\n",
        "  a=-a\n",
        "  print(\"sell the stock to stop loss, you have lost %d dollars\" %a)\n",
        "elif price_now>1.2*purchase_price:\n",
        "  print(\"sell the stock to make a profit, you have lost %d dollars\" %a)\n",
        "else:\n",
        "  print(\"no action is required\")"
      ],
      "execution_count": 29,
      "outputs": [
        {
          "output_type": "stream",
          "name": "stdout",
          "text": [
            "Enter the purchase price of the stock: 3000\n",
            "Enter the current price of the stock: 1000\n",
            "sell the stock to stop loss, you have lost 2000 dollars\n"
          ]
        }
      ]
    },
    {
      "cell_type": "markdown",
      "metadata": {
        "id": "dgS6ViIw--op"
      },
      "source": [
        "### Iteration with Definite Loops\n",
        "Programmers use loops to execute a sequence of statements several times in succession. The simplest kind of loop is called a definite loop. This is a loop that will execute a definite number of times.\n",
        "\n",
        "Modeling the iterative process in Python looks like:\n",
        "\n",
        "![iteration](https://drive.google.com/uc?id=1Uzb95HnfwNpfXUdnqnIf0aGBf6zU1Juo)  \n",
        "\n",
        "Unlike in some other programming languages, Python automatically recognizes the elements of a series.  If the input is a string, Python will iterate through the characters that make up the string; if the input is a number, Python will iterate through each digit in the number; if the input is a list, Python will iterate through each element of the list."
      ]
    },
    {
      "cell_type": "markdown",
      "metadata": {
        "id": "BgpUUzesHxXb"
      },
      "source": [
        "#### Example:  Print values in a range"
      ]
    },
    {
      "cell_type": "code",
      "metadata": {
        "id": "5Kd31SLI--op",
        "colab": {
          "base_uri": "https://localhost:8080/"
        },
        "outputId": "3c421379-3642-4e5d-ae94-3d16950f4027"
      },
      "source": [
        "# multiply every value in the range 0 to 10 by 10 and print the result\n",
        "for i in range(10):\n",
        "    x=10*i\n",
        "    print(x)"
      ],
      "execution_count": 10,
      "outputs": [
        {
          "output_type": "stream",
          "name": "stdout",
          "text": [
            "0\n",
            "10\n",
            "20\n",
            "30\n",
            "40\n",
            "50\n",
            "60\n",
            "70\n",
            "80\n",
            "90\n"
          ]
        }
      ]
    },
    {
      "cell_type": "markdown",
      "metadata": {
        "id": "l0LRzpqB--oq"
      },
      "source": [
        "What happens if we remove the indent for the print function?"
      ]
    },
    {
      "cell_type": "code",
      "metadata": {
        "id": "cxhZjOYS--oq",
        "colab": {
          "base_uri": "https://localhost:8080/"
        },
        "outputId": "e310eb0a-cfa0-4f4c-95d4-a6c7b18f1122"
      },
      "source": [
        "# multiply every value in the range 0 to 10 by 10 and print the result\n",
        "for i in range(10):\n",
        "    x=10*i\n",
        "print(x)"
      ],
      "execution_count": 11,
      "outputs": [
        {
          "output_type": "stream",
          "name": "stdout",
          "text": [
            "90\n"
          ]
        }
      ]
    },
    {
      "cell_type": "markdown",
      "metadata": {
        "id": "mXD-5CtEH3kh"
      },
      "source": [
        "#### Example:  Print values in a list"
      ]
    },
    {
      "cell_type": "code",
      "metadata": {
        "id": "PGW5buZ---oq",
        "colab": {
          "base_uri": "https://localhost:8080/"
        },
        "outputId": "8428186a-48a4-42eb-9804-d799fad1ac69"
      },
      "source": [
        "# using a list as an input\n",
        "things=[1, 2, 3, 4, 5]\n",
        "for thing in things:\n",
        "  print(thing+2)"
      ],
      "execution_count": 12,
      "outputs": [
        {
          "output_type": "stream",
          "name": "stdout",
          "text": [
            "3\n",
            "4\n",
            "5\n",
            "6\n",
            "7\n"
          ]
        }
      ]
    },
    {
      "cell_type": "markdown",
      "metadata": {
        "id": "2K2aSf1RH9vU"
      },
      "source": [
        "#### Example: Print characters in a string"
      ]
    },
    {
      "cell_type": "code",
      "metadata": {
        "scrolled": true,
        "id": "wr-VkIsN--oq",
        "colab": {
          "base_uri": "https://localhost:8080/"
        },
        "outputId": "a0850cb7-e1b2-46a7-c159-7ffd10e8b677"
      },
      "source": [
        "# accessing each character in a string\n",
        "str='abcdefg'\n",
        "for i in str:\n",
        "    print(i)"
      ],
      "execution_count": 13,
      "outputs": [
        {
          "output_type": "stream",
          "name": "stdout",
          "text": [
            "a\n",
            "b\n",
            "c\n",
            "d\n",
            "e\n",
            "f\n",
            "g\n"
          ]
        }
      ]
    },
    {
      "cell_type": "markdown",
      "metadata": {
        "id": "YJhzS-h8--oq"
      },
      "source": [
        "#### Example: Future Values\n",
        "Let's write a somewhat more sophisticated program to calculate the future value of the principal on an investment after 10 years at a given rate (apr).\n",
        "\n",
        "- Program: Future Value\n",
        "\n",
        "- Inputs:  \n",
        "- principal - the amount of money being invested in dollars.\n",
        "- apr - the annual percentage rate expressed as a decimal number.\n",
        "\n",
        "- Output:  The value of the investment 10 years into the future.\n",
        "\n",
        "- Relationship:  Value after one year is given by *principal(1+apr)*.  This formula needs to be applied 10 times."
      ]
    },
    {
      "cell_type": "code",
      "metadata": {
        "id": "Z6xmQrvU--or",
        "colab": {
          "base_uri": "https://localhost:8080/"
        },
        "outputId": "854edf85-d7bf-45de-b855-19075bc23fd4"
      },
      "source": [
        "principal=float(input(\"Enter the amount of the initial principal: \"))\n",
        "apr=float(input(\"Enter the annual interest rate\"))\n",
        "for i in range(10):\n",
        "    principal=principal*(1+apr)\n",
        "print(\"The value after 10 years is: \", principal)"
      ],
      "execution_count": 15,
      "outputs": [
        {
          "output_type": "stream",
          "name": "stdout",
          "text": [
            "Enter the amount of the initial principal: 50\n",
            "Enter the annual interest rate0.05\n",
            "The value after 10 years is:  81.4447313388721\n"
          ]
        }
      ]
    },
    {
      "cell_type": "markdown",
      "source": [
        "### Example: Find Min\n",
        "\n",
        "Write a function to find the minimum of a collection of values. "
      ],
      "metadata": {
        "id": "wJMtY-ox82y2"
      }
    },
    {
      "cell_type": "code",
      "source": [
        "def find_min(vals):\n",
        "    min=9999\n",
        "    for i in vals:\n",
        "        if i<min:\n",
        "            min=i\n",
        "    print(min)\n",
        "\n",
        "#TEST\n",
        "x=[3,4,5,3,6,8,2,6,8,1,12,34,4,1,4]\n",
        "find_min(x)\n",
        "\n",
        "y=[5,7,2,8,9,4,5,7,9,9,4,5,2]\n",
        "find_min(y)"
      ],
      "metadata": {
        "id": "QVUxqF1G864z",
        "colab": {
          "base_uri": "https://localhost:8080/"
        },
        "outputId": "0337e8eb-8137-41fa-bb62-49d51997dd05"
      },
      "execution_count": 16,
      "outputs": [
        {
          "output_type": "stream",
          "name": "stdout",
          "text": [
            "1\n",
            "2\n"
          ]
        }
      ]
    },
    {
      "cell_type": "markdown",
      "metadata": {
        "id": "uKss2XhB--or"
      },
      "source": [
        "#### Example:  Combining Iteration and Conditioning\n",
        "We can combine the methods of conditioning and iteration in order to create powerful programs.  We'll modify the program we used earlier to make decisions about stock prices. "
      ]
    },
    {
      "cell_type": "code",
      "metadata": {
        "id": "3_2i2o9i--or",
        "colab": {
          "base_uri": "https://localhost:8080/"
        },
        "outputId": "ae5fc7c9-5db3-41d0-dae1-de9f56f17d44"
      },
      "source": [
        "purchase_price=7\n",
        "prices_list=[3,5,12,10,6,14,7]\n",
        "profit=0\n",
        "loss=0\n",
        "even=0\n",
        "for price in prices_list:\n",
        "    if price < purchase_price * .9:\n",
        "        loss+=purchase_price-price\n",
        "    elif price > purchase_price * 1.2:\n",
        "        profit+=price-purchase_price\n",
        "    else:\n",
        "        even+=1\n",
        "print(\"You have made a profit of $\",profit, \"and lost $\",loss, \"you broke even\", even, \"time(s)\")"
      ],
      "execution_count": 30,
      "outputs": [
        {
          "output_type": "stream",
          "name": "stdout",
          "text": [
            "You have made a profit of $ 15 and lost $ 7 you broke even 1 time(s)\n"
          ]
        }
      ]
    },
    {
      "cell_type": "markdown",
      "metadata": {
        "id": "hLA3JWvx--or"
      },
      "source": [
        "#### Exercise: House Prices\n",
        " A house is listed for sale at a price of $360,000.  Write a program that takes in a list of offers (integers) and counts the number of offers that are either equal-to/above or below asking price.  Print a final statement that communicates how many offers are above asking price and how many are below asking price.   "
      ]
    },
    {
      "cell_type": "code",
      "metadata": {
        "id": "D8L9FZVk--or",
        "colab": {
          "base_uri": "https://localhost:8080/"
        },
        "outputId": "494fd1aa-b45e-43eb-f279-a13081997d0d"
      },
      "source": [
        "asking_price=36000\n",
        "offers=[40000, 32000, 34000, 35000, 37200]\n",
        "above=0\n",
        "below=0\n",
        "# your code\n",
        "for offer in offers:\n",
        "  if offer>=asking_price:\n",
        "    above+=1\n",
        "  else:\n",
        "    below+=1\n",
        "print(above,\"offers are above asking price and\",below,\"offers are below asking price\")\n",
        "\n"
      ],
      "execution_count": 31,
      "outputs": [
        {
          "output_type": "stream",
          "name": "stdout",
          "text": [
            "2 offers are above asking price and 3 offers are below asking price\n"
          ]
        }
      ]
    }
  ]
}